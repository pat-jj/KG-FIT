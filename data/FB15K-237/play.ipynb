{
 "cells": [
  {
   "cell_type": "code",
   "execution_count": 1,
   "metadata": {},
   "outputs": [
    {
     "name": "stdout",
     "output_type": "stream",
     "text": [
      "14262 14541\n"
     ]
    }
   ],
   "source": [
    "label_set = set()\n",
    "\n",
    "with open('entity2label.txt', 'r') as f:\n",
    "    entity2label = {}\n",
    "    for line in f:\n",
    "        entity, label = line.strip().split('\\t')\n",
    "        entity2label[entity] = label\n",
    "        label_set.add(label)\n",
    "        \n",
    "print(len(label_set), len(entity2label))"
   ]
  },
  {
   "cell_type": "code",
   "execution_count": null,
   "metadata": {},
   "outputs": [],
   "source": []
  }
 ],
 "metadata": {
  "kernelspec": {
   "display_name": "kgc",
   "language": "python",
   "name": "python3"
  },
  "language_info": {
   "codemirror_mode": {
    "name": "ipython",
    "version": 3
   },
   "file_extension": ".py",
   "mimetype": "text/x-python",
   "name": "python",
   "nbconvert_exporter": "python",
   "pygments_lexer": "ipython3",
   "version": "3.8.13"
  }
 },
 "nbformat": 4,
 "nbformat_minor": 2
}
